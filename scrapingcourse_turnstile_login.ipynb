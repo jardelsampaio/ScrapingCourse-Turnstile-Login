{
 "cells": [
  {
   "cell_type": "markdown",
   "id": "af8d23b3",
   "metadata": {},
   "source": [
    "\n",
    "# Desafio 2 Pontos - Disciplina: Web mining & crawler scraping\n",
    "## ScrapingCourse Turnstile Login\n",
    "\n",
    "### Aluno: José Jardel Sampaio Siqueira\n",
    "\n",
    "Este notebook faz o login de forma simples no desafio **Cloudflare Turnstile** do site `scrapingcourse.com`.\n",
    "Ele usa **Selenium** para abrir o navegador, preencher as credenciais e aguardar você resolver o Turnstile manualmente.\n"
   ]
  },
  {
   "cell_type": "markdown",
   "id": "52ae44fb",
   "metadata": {},
   "source": [
    "\n",
    "## Depêdencias\n",
    "\n",
    "Execute esta célula apenas uma vez para instalar as bibliotecas necessárias.\n"
   ]
  },
  {
   "cell_type": "code",
   "execution_count": 1,
   "id": "0a1578bb",
   "metadata": {},
   "outputs": [],
   "source": [
    "!pip install selenium webdriver-manager beautifulsoup4 -q"
   ]
  },
  {
   "cell_type": "markdown",
   "id": "0747c078",
   "metadata": {},
   "source": [
    "\n",
    "## Código principal\n",
    "\n",
    "- Abre a página de login.\n",
    "- Preenche `email` e `senha` de demonstração.\n",
    "- Aguarda você resolver o **Turnstile** no navegador.\n",
    "- Depois clica em **Login** e mostra parte do HTML da página logada.\n"
   ]
  },
  {
   "cell_type": "code",
   "execution_count": 2,
   "id": "e4c0d46c",
   "metadata": {},
   "outputs": [
    {
     "name": "stdout",
     "output_type": "stream",
     "text": [
      "Resolva o Cloudflare Turnstile manualmente no navegador.\n"
     ]
    },
    {
     "name": "stdin",
     "output_type": "stream",
     "text": [
      "Pressione ENTER aqui quando terminar... \n"
     ]
    }
   ],
   "source": [
    "from selenium import webdriver\n",
    "from selenium.webdriver.common.by import By\n",
    "from selenium.webdriver.support.ui import WebDriverWait\n",
    "from selenium.webdriver.support import expected_conditions as EC\n",
    "from webdriver_manager.chrome import ChromeDriverManager\n",
    "from bs4 import BeautifulSoup\n",
    "import time\n",
    "\n",
    "EMAIL = \"admin@example.com\"\n",
    "PASSWORD = \"password\"\n",
    "URL = \"https://www.scrapingcourse.com/login/cf-turnstile\"\n",
    "\n",
    "# Iniciação do navegador Chrome;\n",
    "driver = webdriver.Chrome(service=webdriver.chrome.service.Service(ChromeDriverManager().install()))\n",
    "driver.set_window_size(1200, 900)\n",
    "\n",
    "# Abre o site Scraping Course e preenche credenciais;\n",
    "driver.get(URL)\n",
    "wait = WebDriverWait(driver, 15)\n",
    "wait.until(EC.presence_of_element_located((By.CSS_SELECTOR, \"input[type='email']\"))).send_keys(EMAIL)\n",
    "driver.find_element(By.CSS_SELECTOR, \"input[type='password']\").send_keys(PASSWORD)\n",
    "\n",
    "print(\"Resolva o Cloudflare Turnstile manualmente no navegador.\")\n",
    "input(\"Pressione ENTER aqui quando terminar...\")\n",
    "\n",
    "# Faz o envio do formulário e espera carregar;\n",
    "driver.find_element(By.CSS_SELECTOR, \"button[type='submit']\").click()\n",
    "time.sleep(3)\n",
    "\n",
    "# Extrai e mostra um trecho do HTML pós-login\n",
    "soup = BeautifulSoup(driver.page_source, \"html.parser\")\n",
    "for el in soup.find_all([\"h2\", \"p\"], limit=5):\n",
    "    print(\"-\", el.get_text(strip=True))\n",
    "\n",
    "driver.quit()"
   ]
  },
  {
   "cell_type": "code",
   "execution_count": null,
   "id": "0907edd5-6b02-47f0-a15d-d67c3e4f8382",
   "metadata": {},
   "outputs": [],
   "source": []
  }
 ],
 "metadata": {
  "kernelspec": {
   "display_name": "Python 3 (ipykernel)",
   "language": "python",
   "name": "python3"
  },
  "language_info": {
   "codemirror_mode": {
    "name": "ipython",
    "version": 3
   },
   "file_extension": ".py",
   "mimetype": "text/x-python",
   "name": "python",
   "nbconvert_exporter": "python",
   "pygments_lexer": "ipython3",
   "version": "3.13.5"
  }
 },
 "nbformat": 4,
 "nbformat_minor": 5
}
